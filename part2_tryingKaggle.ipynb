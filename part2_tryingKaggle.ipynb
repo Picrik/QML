{
 "cells": [
  {
   "cell_type": "markdown",
   "metadata": {},
   "source": [
    "Objectivs :\n",
    "* Use part1 learning against real data from kaggle\n",
    "\n",
    "Note I'll simulate the quantum computing part"
   ]
  },
  {
   "cell_type": "markdown",
   "metadata": {},
   "source": [
    "# Environnement set up"
   ]
  },
  {
   "cell_type": "code",
   "execution_count": 1,
   "metadata": {},
   "outputs": [],
   "source": [
    "from kaggle.api.kaggle_api_extended import KaggleApi\n",
    "api = KaggleApi()\n",
    "api.authenticate()\n",
    "\n",
    "from zipfile import ZipFile\n",
    "import pandas as pd\n",
    "import time\n",
    "import warnings\n",
    "warnings.simplefilter(action='ignore')\n",
    "from sklearn.model_selection import train_test_split\n",
    "from sklearn.metrics import confusion_matrix\n",
    "import seaborn as sns\n",
    "#from qiskit_machine_learning.datasets import ad_hoc_data\n",
    "import matplotlib.pyplot as plt\n",
    "import numpy as np\n",
    "from qiskit.circuit.library import ZZFeatureMap\n",
    "from qiskit.primitives import Sampler\n",
    "from qiskit.algorithms.state_fidelities import ComputeUncompute\n",
    "from qiskit_machine_learning.kernels import FidelityQuantumKernel\n",
    "from sklearn.svm import SVC\n",
    "from qiskit_machine_learning.algorithms import QSVC\n",
    "#from sklearn.cluster import SpectralClustering\n",
    "#from sklearn.metrics import normalized_mutual_info_score\n",
    "#from sklearn.decomposition import KernelPCA\n",
    "#from sklearn.linear_model import LogisticRegression\n",
    "#\n",
    "#from qiskit.utils import algorithm_globals\n",
    "#\n",
    "#algorithm_globals.random_seed = 12345"
   ]
  },
  {
   "cell_type": "markdown",
   "metadata": {},
   "source": [
    "# Personal functions"
   ]
  },
  {
   "cell_type": "code",
   "execution_count": 2,
   "metadata": {},
   "outputs": [],
   "source": [
    "def drawConfusionMatrix(y_test, y_pred):\n",
    "    '''\n",
    "    drawConfusionMatrix(y_test, y_pred)\n",
    "    Input : y_test : list of real target.\n",
    "            y_pred : list of predicted target.\n",
    "\n",
    "    This fonction draw a confusion matrix from y_test and y_pred.\n",
    "    '''\n",
    "    cf_matrix = confusion_matrix(y_test, y_pred)\n",
    "    cm_sum = np.sum(cf_matrix, axis=1, keepdims=True)\n",
    "    cm_perc = cf_matrix / cm_sum.astype(float) * 100\n",
    "    annot = np.empty_like(cf_matrix).astype(str)\n",
    "    nrows, ncols = cf_matrix.shape\n",
    "    labels = [\"Died\", \"Survived\"]\n",
    "    sns.heatmap(cf_matrix/np.sum(cf_matrix), \n",
    "                xticklabels=labels, \n",
    "                yticklabels=labels, \n",
    "                annot=True)\n",
    "    plt.yticks(rotation=0)\n",
    "    plt.ylabel('Predicted values', rotation=0)\n",
    "    plt.xlabel('Actual values')\n",
    "    plt.show()"
   ]
  },
  {
   "cell_type": "markdown",
   "metadata": {},
   "source": [
    "# Import data"
   ]
  },
  {
   "cell_type": "code",
   "execution_count": 3,
   "metadata": {},
   "outputs": [
    {
     "data": {
      "text/html": [
       "<div>\n",
       "<style scoped>\n",
       "    .dataframe tbody tr th:only-of-type {\n",
       "        vertical-align: middle;\n",
       "    }\n",
       "\n",
       "    .dataframe tbody tr th {\n",
       "        vertical-align: top;\n",
       "    }\n",
       "\n",
       "    .dataframe thead th {\n",
       "        text-align: right;\n",
       "    }\n",
       "</style>\n",
       "<table border=\"1\" class=\"dataframe\">\n",
       "  <thead>\n",
       "    <tr style=\"text-align: right;\">\n",
       "      <th></th>\n",
       "      <th>PassengerId</th>\n",
       "      <th>Survived</th>\n",
       "      <th>Pclass</th>\n",
       "      <th>Name</th>\n",
       "      <th>Sex</th>\n",
       "      <th>Age</th>\n",
       "      <th>SibSp</th>\n",
       "      <th>Parch</th>\n",
       "      <th>Ticket</th>\n",
       "      <th>Fare</th>\n",
       "      <th>Cabin</th>\n",
       "      <th>Embarked</th>\n",
       "    </tr>\n",
       "  </thead>\n",
       "  <tbody>\n",
       "    <tr>\n",
       "      <th>0</th>\n",
       "      <td>1</td>\n",
       "      <td>0</td>\n",
       "      <td>3</td>\n",
       "      <td>Braund, Mr. Owen Harris</td>\n",
       "      <td>male</td>\n",
       "      <td>22.0</td>\n",
       "      <td>1</td>\n",
       "      <td>0</td>\n",
       "      <td>A/5 21171</td>\n",
       "      <td>7.2500</td>\n",
       "      <td>NaN</td>\n",
       "      <td>S</td>\n",
       "    </tr>\n",
       "    <tr>\n",
       "      <th>1</th>\n",
       "      <td>2</td>\n",
       "      <td>1</td>\n",
       "      <td>1</td>\n",
       "      <td>Cumings, Mrs. John Bradley (Florence Briggs Th...</td>\n",
       "      <td>female</td>\n",
       "      <td>38.0</td>\n",
       "      <td>1</td>\n",
       "      <td>0</td>\n",
       "      <td>PC 17599</td>\n",
       "      <td>71.2833</td>\n",
       "      <td>C85</td>\n",
       "      <td>C</td>\n",
       "    </tr>\n",
       "    <tr>\n",
       "      <th>2</th>\n",
       "      <td>3</td>\n",
       "      <td>1</td>\n",
       "      <td>3</td>\n",
       "      <td>Heikkinen, Miss. Laina</td>\n",
       "      <td>female</td>\n",
       "      <td>26.0</td>\n",
       "      <td>0</td>\n",
       "      <td>0</td>\n",
       "      <td>STON/O2. 3101282</td>\n",
       "      <td>7.9250</td>\n",
       "      <td>NaN</td>\n",
       "      <td>S</td>\n",
       "    </tr>\n",
       "    <tr>\n",
       "      <th>3</th>\n",
       "      <td>4</td>\n",
       "      <td>1</td>\n",
       "      <td>1</td>\n",
       "      <td>Futrelle, Mrs. Jacques Heath (Lily May Peel)</td>\n",
       "      <td>female</td>\n",
       "      <td>35.0</td>\n",
       "      <td>1</td>\n",
       "      <td>0</td>\n",
       "      <td>113803</td>\n",
       "      <td>53.1000</td>\n",
       "      <td>C123</td>\n",
       "      <td>S</td>\n",
       "    </tr>\n",
       "    <tr>\n",
       "      <th>4</th>\n",
       "      <td>5</td>\n",
       "      <td>0</td>\n",
       "      <td>3</td>\n",
       "      <td>Allen, Mr. William Henry</td>\n",
       "      <td>male</td>\n",
       "      <td>35.0</td>\n",
       "      <td>0</td>\n",
       "      <td>0</td>\n",
       "      <td>373450</td>\n",
       "      <td>8.0500</td>\n",
       "      <td>NaN</td>\n",
       "      <td>S</td>\n",
       "    </tr>\n",
       "  </tbody>\n",
       "</table>\n",
       "</div>"
      ],
      "text/plain": [
       "   PassengerId  Survived  Pclass  \\\n",
       "0            1         0       3   \n",
       "1            2         1       1   \n",
       "2            3         1       3   \n",
       "3            4         1       1   \n",
       "4            5         0       3   \n",
       "\n",
       "                                                Name     Sex   Age  SibSp  \\\n",
       "0                            Braund, Mr. Owen Harris    male  22.0      1   \n",
       "1  Cumings, Mrs. John Bradley (Florence Briggs Th...  female  38.0      1   \n",
       "2                             Heikkinen, Miss. Laina  female  26.0      0   \n",
       "3       Futrelle, Mrs. Jacques Heath (Lily May Peel)  female  35.0      1   \n",
       "4                           Allen, Mr. William Henry    male  35.0      0   \n",
       "\n",
       "   Parch            Ticket     Fare Cabin Embarked  \n",
       "0      0         A/5 21171   7.2500   NaN        S  \n",
       "1      0          PC 17599  71.2833   C85        C  \n",
       "2      0  STON/O2. 3101282   7.9250   NaN        S  \n",
       "3      0            113803  53.1000  C123        S  \n",
       "4      0            373450   8.0500   NaN        S  "
      ]
     },
     "execution_count": 3,
     "metadata": {},
     "output_type": "execute_result"
    }
   ],
   "source": [
    "scores = {}\n",
    "# starting with titanic data\n",
    "api.competition_download_files('titanic', path=\"DATA/\")\n",
    "\n",
    "# unzip\n",
    "zf = ZipFile('DATA/titanic.zip')\n",
    "zf.extractall('DATA/') #save files in selected folder\n",
    "zf.close()\n",
    "\n",
    "df_train = pd.read_csv(\"DATA/train.csv\")\n",
    "df_train.head()"
   ]
  },
  {
   "cell_type": "markdown",
   "metadata": {},
   "source": [
    "# Preprocessing data"
   ]
  },
  {
   "cell_type": "code",
   "execution_count": 4,
   "metadata": {},
   "outputs": [
    {
     "name": "stdout",
     "output_type": "stream",
     "text": [
      "This calculations took me : 00:00:00\n"
     ]
    }
   ],
   "source": [
    "start_time = time.time()\n",
    "df_train = df_train.drop([\"PassengerId\", \"Ticket\", \"Cabin\", \"SibSp\", \"Parch\", \"Embarked\", \"Name\"],axis=1) # Remove unique ID and not relevant feature to optimize the quantum computing part\n",
    "\n",
    "# Computing mean values to replace missing ones.\n",
    "df_train[\"Age\"] = df_train[\"Age\"].fillna(df_train[\"Age\"].mean())\n",
    "\n",
    "# Transforming gender\n",
    "df_train[\"Sex\"].loc[df_train[\"Sex\"] == \"male\"] = 0\n",
    "df_train[\"Sex\"].loc[df_train[\"Sex\"] == \"female\"] = 1\n",
    "elapsed_time = time.time() - start_time\n",
    "print(\"This calculations took me : {}\".format(time.strftime(\"%H:%M:%S\", time.gmtime(elapsed_time))))"
   ]
  },
  {
   "cell_type": "markdown",
   "metadata": {},
   "source": [
    "# Train/Test split"
   ]
  },
  {
   "cell_type": "code",
   "execution_count": 5,
   "metadata": {},
   "outputs": [],
   "source": [
    "X_train, X_test, y_train, y_test = train_test_split(df_train.drop([\"Survived\"], axis=1), \n",
    "                                                    df_train[\"Survived\"], \n",
    "                                                    test_size=0.2,\n",
    "                                                    random_state=0)"
   ]
  },
  {
   "cell_type": "markdown",
   "metadata": {},
   "source": [
    "# SVC Classification"
   ]
  },
  {
   "cell_type": "code",
   "execution_count": 6,
   "metadata": {},
   "outputs": [
    {
     "data": {
      "image/png": "[encoded data removed]",
      "text/plain": [
       "<Figure size 640x480 with 2 Axes>"
      ]
     },
     "metadata": {},
     "output_type": "display_data"
    },
    {
     "name": "stdout",
     "output_type": "stream",
     "text": [
      "Perfomance is : 77.65% for SVM as a baseline\n",
      "This calculations took me : 00:00:00\n"
     ]
    }
   ],
   "source": [
    "start_time = time.time()\n",
    "# Using classical ML technics to obtain a base line\n",
    "clf = SVC(kernel='linear', C = 1.0, tol=1e-2, cache_size=20000, max_iter=10000)\n",
    "clf.fit(X_train, y_train)\n",
    "y_pred = clf.predict(X_test)\n",
    "\n",
    "drawConfusionMatrix(y_test, y_pred)\n",
    "\n",
    "score = (((y_pred == y_test).sum())/y_test.shape[0])\n",
    "score = round(score*100,2)\n",
    "print(\"Perfomance is : {}% for SVM as a baseline\".format(score))\n",
    "elapsed_time = time.time() - start_time\n",
    "print(\"This calculations took me : {}\".format(time.strftime(\"%H:%M:%S\", time.gmtime(elapsed_time))))\n",
    "\n",
    "scores[\"classical_SVC\"] = {}\n",
    "scores[\"classical_SVC\"][\"score\"] = score\n",
    "scores[\"classical_SVC\"][\"time\"] = elapsed_time"
   ]
  },
  {
   "cell_type": "markdown",
   "metadata": {},
   "source": [
    "# Going Quantum"
   ]
  },
  {
   "cell_type": "code",
   "execution_count": 7,
   "metadata": {},
   "outputs": [
    {
     "name": "stdout",
     "output_type": "stream",
     "text": [
      "Start\n",
      "Feature map ready\n",
      "Fidelity Quantum Kernel ready\n",
      "SVC created\n",
      "Fit done\n",
      "Perfomance is : 79.89% for SVM as a baseline\n",
      "Callable kernel classification test score: 0.7988826815642458\n",
      "This calculations took me : 00:53:28\n"
     ]
    }
   ],
   "source": [
    "start_time = time.time()\n",
    "# Defining the quantum kernel\n",
    "\n",
    "print(\"Start\")\n",
    "adhoc_feature_map = ZZFeatureMap(feature_dimension=4, reps=2, entanglement=\"linear\")\n",
    "sampler = Sampler()\n",
    "fidelity = ComputeUncompute(sampler=sampler)\n",
    "print(\"Feature map ready\")\n",
    "adhoc_kernel = FidelityQuantumKernel(fidelity=fidelity, feature_map=adhoc_feature_map)\n",
    "print(\"Fidelity Quantum Kernel ready\")\n",
    "# Kernel as a callable function\n",
    "adhoc_svc = SVC(kernel=adhoc_kernel.evaluate, tol=1e-2, cache_size=20000, max_iter=10000)\n",
    "print(\"SVC created\")\n",
    "adhoc_svc.fit(X_train, y_train)\n",
    "print(\"Fit done\")\n",
    "adhoc_score_callable_function = adhoc_svc.score(X_test, y_test)\n",
    "\n",
    "print(\"Perfomance is : {}% for SVM with callable kernel classification\".format(round(adhoc_score_callable_function*100,2)))\n",
    "\n",
    "elapsed_time = time.time() - start_time\n",
    "print(\"This calculations took me : {}\".format(time.strftime(\"%H:%M:%S\", time.gmtime(elapsed_time))))\n",
    "\n",
    "scores[\"QuantumKernel_SVC\"] = {}\n",
    "scores[\"QuantumKernel_SVC\"][\"score\"] = round(adhoc_score_callable_function*100,2)\n",
    "scores[\"QuantumKernel_SVC\"][\"time\"] = elapsed_time"
   ]
  },
  {
   "cell_type": "code",
   "execution_count": 8,
   "metadata": {},
   "outputs": [
    {
     "name": "stdout",
     "output_type": "stream",
     "text": [
      "Start\n",
      "Fit done\n",
      "Prediction done\n",
      "Perfomance is : 77.65% for QSVM\n",
      "This calculations took me : 00:51:06\n"
     ]
    }
   ],
   "source": [
    "start_time = time.time()\n",
    "# Using QSVC\n",
    "\n",
    "print(\"Start\")\n",
    "qsvc = QSVC(quantum_kernel=adhoc_kernel)\n",
    "qsvc.fit(X_train, y_train)\n",
    "print(\"Fit done\")\n",
    "qsvc.predict(X_test)\n",
    "print(\"Prediction done\")\n",
    "score = (((y_pred == y_test).sum())/y_test.shape[0])\n",
    "score = round(score*100,2)\n",
    "print(\"Perfomance is : {}% for QSVM\".format(score))\n",
    "elapsed_time = time.time() - start_time\n",
    "print(\"This calculations took me : {}\".format(time.strftime(\"%H:%M:%S\", time.gmtime(elapsed_time))))\n",
    "\n",
    "scores[\"QuantumKernel_QSVC\"] = {}\n",
    "scores[\"QuantumKernel_QSVC\"][\"score\"] = score\n",
    "scores[\"QuantumKernel_QSVC\"][\"time\"] = elapsed_time"
   ]
  },
  {
   "cell_type": "markdown",
   "metadata": {},
   "source": [
    "# Plotting results"
   ]
  },
  {
   "cell_type": "code",
   "execution_count": 26,
   "metadata": {},
   "outputs": [
    {
     "data": {
      "image/png": "[encoded data removed]",
      "text/plain": [
       "<Figure size 640x480 with 1 Axes>"
      ]
     },
     "metadata": {},
     "output_type": "display_data"
    }
   ],
   "source": [
    "plt.bar(range(len(scores)), [x[\"score\"] for x in scores.values()], tick_label=list(scores.keys()))\n",
    "plt.title(\"Performances %\")\n",
    "plt.show()"
   ]
  },
  {
   "cell_type": "code",
   "execution_count": 27,
   "metadata": {},
   "outputs": [
    {
     "data": {
      "image/png": "[encoded data removed]",
      "text/plain": [
       "<Figure size 640x480 with 1 Axes>"
      ]
     },
     "metadata": {},
     "output_type": "display_data"
    }
   ],
   "source": [
    "plt.bar(range(len(scores)), [x[\"time\"] for x in scores.values()], tick_label=list(scores.keys()))\n",
    "plt.title(\"Time taken (s)\")\n",
    "plt.show()"
   ]
  },
  {
   "cell_type": "code",
   "execution_count": null,
   "metadata": {},
   "outputs": [],
   "source": []
  }
 ],
 "metadata": {
  "kernelspec": {
   "display_name": "Python 3",
   "language": "python",
   "name": "python3"
  },
  "language_info": {
   "codemirror_mode": {
    "name": "ipython",
    "version": 3
   },
   "file_extension": ".py",
   "mimetype": "text/x-python",
   "name": "python",
   "nbconvert_exporter": "python",
   "pygments_lexer": "ipython3",
   "version": "3.11.6"
  }
 },
 "nbformat": 4,
 "nbformat_minor": 2
}
